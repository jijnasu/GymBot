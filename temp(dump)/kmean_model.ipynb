{
 "cells": [
  {
   "cell_type": "code",
   "execution_count": 106,
   "metadata": {},
   "outputs": [],
   "source": [
    "#import libraries\n",
    "import pandas as pd\n",
    "import numpy as np\n",
    "import random as rd\n",
    "import matplotlib.pyplot as plt\n",
    "from sklearn.preprocessing import StandardScaler\n"
   ]
  },
  {
   "cell_type": "code",
   "execution_count": 128,
   "metadata": {},
   "outputs": [
    {
     "data": {
      "text/html": [
       "<div>\n",
       "<style scoped>\n",
       "    .dataframe tbody tr th:only-of-type {\n",
       "        vertical-align: middle;\n",
       "    }\n",
       "\n",
       "    .dataframe tbody tr th {\n",
       "        vertical-align: top;\n",
       "    }\n",
       "\n",
       "    .dataframe thead th {\n",
       "        text-align: right;\n",
       "    }\n",
       "</style>\n",
       "<table border=\"1\" class=\"dataframe\">\n",
       "  <thead>\n",
       "    <tr style=\"text-align: right;\">\n",
       "      <th></th>\n",
       "      <th>Loan_ID</th>\n",
       "      <th>Gender</th>\n",
       "      <th>Married</th>\n",
       "      <th>Dependents</th>\n",
       "      <th>Education</th>\n",
       "      <th>Self_Employed</th>\n",
       "      <th>ApplicantIncome</th>\n",
       "      <th>CoapplicantIncome</th>\n",
       "      <th>LoanAmount</th>\n",
       "      <th>Loan_Amount_Term</th>\n",
       "      <th>Credit_History</th>\n",
       "      <th>Property_Area</th>\n",
       "      <th>Loan_Status</th>\n",
       "    </tr>\n",
       "  </thead>\n",
       "  <tbody>\n",
       "    <tr>\n",
       "      <th>0</th>\n",
       "      <td>LP001003</td>\n",
       "      <td>Male</td>\n",
       "      <td>Yes</td>\n",
       "      <td>1</td>\n",
       "      <td>Graduate</td>\n",
       "      <td>No</td>\n",
       "      <td>4583</td>\n",
       "      <td>1508.0</td>\n",
       "      <td>128.0</td>\n",
       "      <td>360.0</td>\n",
       "      <td>1.0</td>\n",
       "      <td>Rural</td>\n",
       "      <td>N</td>\n",
       "    </tr>\n",
       "    <tr>\n",
       "      <th>1</th>\n",
       "      <td>LP001005</td>\n",
       "      <td>Male</td>\n",
       "      <td>Yes</td>\n",
       "      <td>0</td>\n",
       "      <td>Graduate</td>\n",
       "      <td>Yes</td>\n",
       "      <td>3000</td>\n",
       "      <td>0.0</td>\n",
       "      <td>66.0</td>\n",
       "      <td>360.0</td>\n",
       "      <td>1.0</td>\n",
       "      <td>Urban</td>\n",
       "      <td>Y</td>\n",
       "    </tr>\n",
       "    <tr>\n",
       "      <th>2</th>\n",
       "      <td>LP001006</td>\n",
       "      <td>Male</td>\n",
       "      <td>Yes</td>\n",
       "      <td>0</td>\n",
       "      <td>Not Graduate</td>\n",
       "      <td>No</td>\n",
       "      <td>2583</td>\n",
       "      <td>2358.0</td>\n",
       "      <td>120.0</td>\n",
       "      <td>360.0</td>\n",
       "      <td>1.0</td>\n",
       "      <td>Urban</td>\n",
       "      <td>Y</td>\n",
       "    </tr>\n",
       "    <tr>\n",
       "      <th>3</th>\n",
       "      <td>LP001008</td>\n",
       "      <td>Male</td>\n",
       "      <td>No</td>\n",
       "      <td>0</td>\n",
       "      <td>Graduate</td>\n",
       "      <td>No</td>\n",
       "      <td>6000</td>\n",
       "      <td>0.0</td>\n",
       "      <td>141.0</td>\n",
       "      <td>360.0</td>\n",
       "      <td>1.0</td>\n",
       "      <td>Urban</td>\n",
       "      <td>Y</td>\n",
       "    </tr>\n",
       "    <tr>\n",
       "      <th>4</th>\n",
       "      <td>LP001013</td>\n",
       "      <td>Male</td>\n",
       "      <td>Yes</td>\n",
       "      <td>0</td>\n",
       "      <td>Not Graduate</td>\n",
       "      <td>No</td>\n",
       "      <td>2333</td>\n",
       "      <td>1516.0</td>\n",
       "      <td>95.0</td>\n",
       "      <td>360.0</td>\n",
       "      <td>1.0</td>\n",
       "      <td>Urban</td>\n",
       "      <td>Y</td>\n",
       "    </tr>\n",
       "  </tbody>\n",
       "</table>\n",
       "</div>"
      ],
      "text/plain": [
       "    Loan_ID Gender Married Dependents     Education Self_Employed  \\\n",
       "0  LP001003   Male     Yes          1      Graduate            No   \n",
       "1  LP001005   Male     Yes          0      Graduate           Yes   \n",
       "2  LP001006   Male     Yes          0  Not Graduate            No   \n",
       "3  LP001008   Male      No          0      Graduate            No   \n",
       "4  LP001013   Male     Yes          0  Not Graduate            No   \n",
       "\n",
       "   ApplicantIncome  CoapplicantIncome  LoanAmount  Loan_Amount_Term  \\\n",
       "0             4583             1508.0       128.0             360.0   \n",
       "1             3000                0.0        66.0             360.0   \n",
       "2             2583             2358.0       120.0             360.0   \n",
       "3             6000                0.0       141.0             360.0   \n",
       "4             2333             1516.0        95.0             360.0   \n",
       "\n",
       "   Credit_History Property_Area Loan_Status  \n",
       "0             1.0         Rural           N  \n",
       "1             1.0         Urban           Y  \n",
       "2             1.0         Urban           Y  \n",
       "3             1.0         Urban           Y  \n",
       "4             1.0         Urban           Y  "
      ]
     },
     "execution_count": 128,
     "metadata": {},
     "output_type": "execute_result"
    }
   ],
   "source": [
    "data = pd.read_csv('clustering.csv')\n",
    "data.head()"
   ]
  },
  {
   "cell_type": "code",
   "execution_count": 129,
   "metadata": {},
   "outputs": [
    {
     "data": {
      "image/png": "[encoded data removed]",
      "text/plain": [
       "<Figure size 432x288 with 1 Axes>"
      ]
     },
     "metadata": {
      "needs_background": "light"
     },
     "output_type": "display_data"
    }
   ],
   "source": [
    "X = data[[\"LoanAmount\",\"ApplicantIncome\"]]\n",
    "#Visualise data points\n",
    "plt.scatter(X[\"ApplicantIncome\"],X[\"LoanAmount\"],c='black')\n",
    "plt.xlabel('AnnualIncome')\n",
    "plt.ylabel('Loan Amount (In Thousands)')\n",
    "plt.show()"
   ]
  },
  {
   "cell_type": "code",
   "execution_count": 130,
   "metadata": {},
   "outputs": [
    {
     "data": {
      "image/png": "[encoded data removed]",
      "text/plain": [
       "<Figure size 432x288 with 1 Axes>"
      ]
     },
     "metadata": {
      "needs_background": "light"
     },
     "output_type": "display_data"
    }
   ],
   "source": [
    "# Step 1 and 2 - Choose the number of clusters (k) and select random centroid for each cluster\n",
    "\n",
    "#number of clusters\n",
    "K=3\n",
    "\n",
    "# Select random observation as centroids\n",
    "Centroids = (X.sample(n=K))\n",
    "plt.scatter(X[\"ApplicantIncome\"],X[\"LoanAmount\"],c='black')\n",
    "plt.scatter(Centroids[\"ApplicantIncome\"],Centroids[\"LoanAmount\"],c='red')\n",
    "plt.xlabel('AnnualIncome')\n",
    "plt.ylabel('Loan Amount (In Thousands)')\n",
    "plt.show()"
   ]
  },
  {
   "cell_type": "code",
   "execution_count": 127,
   "metadata": {},
   "outputs": [],
   "source": [
    "scaler = StandardScaler()\n",
    "data = scaler.fit_transform(X)\n",
    "data = pd.DataFrame(data)"
   ]
  },
  {
   "cell_type": "code",
   "execution_count": 7,
   "metadata": {},
   "outputs": [
    {
     "name": "stderr",
     "output_type": "stream",
     "text": [
      "C:\\Users\\Guddu\\AppData\\Local\\Temp\\ipykernel_13388\\3142618123.py:18: SettingWithCopyWarning: \n",
      "A value is trying to be set on a copy of a slice from a DataFrame.\n",
      "Try using .loc[row_indexer,col_indexer] = value instead\n",
      "\n",
      "See the caveats in the documentation: https://pandas.pydata.org/pandas-docs/stable/user_guide/indexing.html#returning-a-view-versus-a-copy\n",
      "  X[i]=ED\n",
      "C:\\Users\\Guddu\\AppData\\Local\\Temp\\ipykernel_13388\\3142618123.py:30: SettingWithCopyWarning: \n",
      "A value is trying to be set on a copy of a slice from a DataFrame.\n",
      "Try using .loc[row_indexer,col_indexer] = value instead\n",
      "\n",
      "See the caveats in the documentation: https://pandas.pydata.org/pandas-docs/stable/user_guide/indexing.html#returning-a-view-versus-a-copy\n",
      "  X[\"Cluster\"]=C\n"
     ]
    },
    {
     "name": "stdout",
     "output_type": "stream",
     "text": [
      "0.0\n"
     ]
    },
    {
     "name": "stderr",
     "output_type": "stream",
     "text": [
      "C:\\Users\\Guddu\\AppData\\Local\\Temp\\ipykernel_13388\\3142618123.py:18: SettingWithCopyWarning: \n",
      "A value is trying to be set on a copy of a slice from a DataFrame.\n",
      "Try using .loc[row_indexer,col_indexer] = value instead\n",
      "\n",
      "See the caveats in the documentation: https://pandas.pydata.org/pandas-docs/stable/user_guide/indexing.html#returning-a-view-versus-a-copy\n",
      "  X[i]=ED\n",
      "C:\\Users\\Guddu\\AppData\\Local\\Temp\\ipykernel_13388\\3142618123.py:30: SettingWithCopyWarning: \n",
      "A value is trying to be set on a copy of a slice from a DataFrame.\n",
      "Try using .loc[row_indexer,col_indexer] = value instead\n",
      "\n",
      "See the caveats in the documentation: https://pandas.pydata.org/pandas-docs/stable/user_guide/indexing.html#returning-a-view-versus-a-copy\n",
      "  X[\"Cluster\"]=C\n"
     ]
    }
   ],
   "source": [
    "# Step 3 - Assign all the points to the closest cluster centroid\n",
    "# Step 4 - Recompute centroids of newly formed clusters\n",
    "# Step 5 - Repeat step 3 and 4\n",
    "\n",
    "diff = 1\n",
    "j=0\n",
    "\n",
    "while(diff!=0):\n",
    "    XD=X\n",
    "    i=1\n",
    "    for index1,row_c in Centroids.iterrows():\n",
    "        ED=[]\n",
    "        for index2,row_d in XD.iterrows():\n",
    "            d1=(row_c[\"ApplicantIncome\"]-row_d[\"ApplicantIncome\"])**2\n",
    "            d2=(row_c[\"LoanAmount\"]-row_d[\"LoanAmount\"])**2\n",
    "            d=np.sqrt(d1+d2)\n",
    "            ED.append(d)\n",
    "        X[i]=ED\n",
    "        i=i+1\n",
    "\n",
    "    C=[]\n",
    "    for index,row in X.iterrows():\n",
    "        min_dist=row[1]\n",
    "        pos=1\n",
    "        for i in range(K):\n",
    "            if row[i+1] < min_dist:\n",
    "                min_dist = row[i+1]\n",
    "                pos=i+1\n",
    "        C.append(pos)\n",
    "    X[\"Cluster\"]=C\n",
    "    Centroids_new = X.groupby([\"Cluster\"]).mean()[[\"LoanAmount\",\"ApplicantIncome\"]]\n",
    "    if j == 0:\n",
    "        diff=1\n",
    "        j=j+1\n",
    "    else:\n",
    "        diff = (Centroids_new['LoanAmount'] - Centroids['LoanAmount']).sum() + (Centroids_new['ApplicantIncome'] - Centroids['ApplicantIncome']).sum()\n",
    "        print(diff.sum())\n",
    "    Centroids = X.groupby([\"Cluster\"]).mean()[[\"LoanAmount\",\"ApplicantIncome\"]]"
   ]
  },
  {
   "cell_type": "code",
   "execution_count": 131,
   "metadata": {},
   "outputs": [
    {
     "ename": "KeyError",
     "evalue": "'Cluster'",
     "output_type": "error",
     "traceback": [
      "\u001b[1;31m---------------------------------------------------------------------------\u001b[0m",
      "\u001b[1;31mKeyError\u001b[0m                                  Traceback (most recent call last)",
      "File \u001b[1;32m~\\AppData\\Local\\Programs\\Python\\Python310\\lib\\site-packages\\pandas\\core\\indexes\\base.py:3621\u001b[0m, in \u001b[0;36mIndex.get_loc\u001b[1;34m(self, key, method, tolerance)\u001b[0m\n\u001b[0;32m   <a href='file:///c%3A/Users/Guddu/AppData/Local/Programs/Python/Python310/lib/site-packages/pandas/core/indexes/base.py?line=3619'>3620</a>\u001b[0m \u001b[39mtry\u001b[39;00m:\n\u001b[1;32m-> <a href='file:///c%3A/Users/Guddu/AppData/Local/Programs/Python/Python310/lib/site-packages/pandas/core/indexes/base.py?line=3620'>3621</a>\u001b[0m     \u001b[39mreturn\u001b[39;00m \u001b[39mself\u001b[39;49m\u001b[39m.\u001b[39;49m_engine\u001b[39m.\u001b[39;49mget_loc(casted_key)\n\u001b[0;32m   <a href='file:///c%3A/Users/Guddu/AppData/Local/Programs/Python/Python310/lib/site-packages/pandas/core/indexes/base.py?line=3621'>3622</a>\u001b[0m \u001b[39mexcept\u001b[39;00m \u001b[39mKeyError\u001b[39;00m \u001b[39mas\u001b[39;00m err:\n",
      "File \u001b[1;32m~\\AppData\\Local\\Programs\\Python\\Python310\\lib\\site-packages\\pandas\\_libs\\index.pyx:136\u001b[0m, in \u001b[0;36mpandas._libs.index.IndexEngine.get_loc\u001b[1;34m()\u001b[0m\n",
      "File \u001b[1;32m~\\AppData\\Local\\Programs\\Python\\Python310\\lib\\site-packages\\pandas\\_libs\\index.pyx:163\u001b[0m, in \u001b[0;36mpandas._libs.index.IndexEngine.get_loc\u001b[1;34m()\u001b[0m\n",
      "File \u001b[1;32mpandas\\_libs\\hashtable_class_helper.pxi:5198\u001b[0m, in \u001b[0;36mpandas._libs.hashtable.PyObjectHashTable.get_item\u001b[1;34m()\u001b[0m\n",
      "File \u001b[1;32mpandas\\_libs\\hashtable_class_helper.pxi:5206\u001b[0m, in \u001b[0;36mpandas._libs.hashtable.PyObjectHashTable.get_item\u001b[1;34m()\u001b[0m\n",
      "\u001b[1;31mKeyError\u001b[0m: 'Cluster'",
      "\nThe above exception was the direct cause of the following exception:\n",
      "\u001b[1;31mKeyError\u001b[0m                                  Traceback (most recent call last)",
      "\u001b[1;32mc:\\Users\\Guddu\\OneDrive\\Documents\\HackOF\\kmean_model.ipynb Cell 7'\u001b[0m in \u001b[0;36m<cell line: 2>\u001b[1;34m()\u001b[0m\n\u001b[0;32m      <a href='vscode-notebook-cell:/c%3A/Users/Guddu/OneDrive/Documents/HackOF/kmean_model.ipynb#ch0000005?line=0'>1</a>\u001b[0m color\u001b[39m=\u001b[39m[\u001b[39m'\u001b[39m\u001b[39mblue\u001b[39m\u001b[39m'\u001b[39m,\u001b[39m'\u001b[39m\u001b[39mgreen\u001b[39m\u001b[39m'\u001b[39m,\u001b[39m'\u001b[39m\u001b[39mcyan\u001b[39m\u001b[39m'\u001b[39m]\n\u001b[0;32m      <a href='vscode-notebook-cell:/c%3A/Users/Guddu/OneDrive/Documents/HackOF/kmean_model.ipynb#ch0000005?line=1'>2</a>\u001b[0m \u001b[39mfor\u001b[39;00m k \u001b[39min\u001b[39;00m \u001b[39mrange\u001b[39m(K):\n\u001b[1;32m----> <a href='vscode-notebook-cell:/c%3A/Users/Guddu/OneDrive/Documents/HackOF/kmean_model.ipynb#ch0000005?line=2'>3</a>\u001b[0m     data\u001b[39m=\u001b[39mX[X[\u001b[39m\"\u001b[39;49m\u001b[39mCluster\u001b[39;49m\u001b[39m\"\u001b[39;49m]\u001b[39m==\u001b[39mk\u001b[39m+\u001b[39m\u001b[39m1\u001b[39m]\n\u001b[0;32m      <a href='vscode-notebook-cell:/c%3A/Users/Guddu/OneDrive/Documents/HackOF/kmean_model.ipynb#ch0000005?line=3'>4</a>\u001b[0m     plt\u001b[39m.\u001b[39mscatter(data[\u001b[39m\"\u001b[39m\u001b[39mApplicantIncome\u001b[39m\u001b[39m\"\u001b[39m],data[\u001b[39m\"\u001b[39m\u001b[39mLoanAmount\u001b[39m\u001b[39m\"\u001b[39m],c\u001b[39m=\u001b[39mcolor[k])\n\u001b[0;32m      <a href='vscode-notebook-cell:/c%3A/Users/Guddu/OneDrive/Documents/HackOF/kmean_model.ipynb#ch0000005?line=4'>5</a>\u001b[0m plt\u001b[39m.\u001b[39mscatter(Centroids[\u001b[39m\"\u001b[39m\u001b[39mApplicantIncome\u001b[39m\u001b[39m\"\u001b[39m],Centroids[\u001b[39m\"\u001b[39m\u001b[39mLoanAmount\u001b[39m\u001b[39m\"\u001b[39m],c\u001b[39m=\u001b[39m\u001b[39m'\u001b[39m\u001b[39mred\u001b[39m\u001b[39m'\u001b[39m)\n",
      "File \u001b[1;32m~\\AppData\\Local\\Programs\\Python\\Python310\\lib\\site-packages\\pandas\\core\\frame.py:3505\u001b[0m, in \u001b[0;36mDataFrame.__getitem__\u001b[1;34m(self, key)\u001b[0m\n\u001b[0;32m   <a href='file:///c%3A/Users/Guddu/AppData/Local/Programs/Python/Python310/lib/site-packages/pandas/core/frame.py?line=3502'>3503</a>\u001b[0m \u001b[39mif\u001b[39;00m \u001b[39mself\u001b[39m\u001b[39m.\u001b[39mcolumns\u001b[39m.\u001b[39mnlevels \u001b[39m>\u001b[39m \u001b[39m1\u001b[39m:\n\u001b[0;32m   <a href='file:///c%3A/Users/Guddu/AppData/Local/Programs/Python/Python310/lib/site-packages/pandas/core/frame.py?line=3503'>3504</a>\u001b[0m     \u001b[39mreturn\u001b[39;00m \u001b[39mself\u001b[39m\u001b[39m.\u001b[39m_getitem_multilevel(key)\n\u001b[1;32m-> <a href='file:///c%3A/Users/Guddu/AppData/Local/Programs/Python/Python310/lib/site-packages/pandas/core/frame.py?line=3504'>3505</a>\u001b[0m indexer \u001b[39m=\u001b[39m \u001b[39mself\u001b[39;49m\u001b[39m.\u001b[39;49mcolumns\u001b[39m.\u001b[39;49mget_loc(key)\n\u001b[0;32m   <a href='file:///c%3A/Users/Guddu/AppData/Local/Programs/Python/Python310/lib/site-packages/pandas/core/frame.py?line=3505'>3506</a>\u001b[0m \u001b[39mif\u001b[39;00m is_integer(indexer):\n\u001b[0;32m   <a href='file:///c%3A/Users/Guddu/AppData/Local/Programs/Python/Python310/lib/site-packages/pandas/core/frame.py?line=3506'>3507</a>\u001b[0m     indexer \u001b[39m=\u001b[39m [indexer]\n",
      "File \u001b[1;32m~\\AppData\\Local\\Programs\\Python\\Python310\\lib\\site-packages\\pandas\\core\\indexes\\base.py:3623\u001b[0m, in \u001b[0;36mIndex.get_loc\u001b[1;34m(self, key, method, tolerance)\u001b[0m\n\u001b[0;32m   <a href='file:///c%3A/Users/Guddu/AppData/Local/Programs/Python/Python310/lib/site-packages/pandas/core/indexes/base.py?line=3620'>3621</a>\u001b[0m     \u001b[39mreturn\u001b[39;00m \u001b[39mself\u001b[39m\u001b[39m.\u001b[39m_engine\u001b[39m.\u001b[39mget_loc(casted_key)\n\u001b[0;32m   <a href='file:///c%3A/Users/Guddu/AppData/Local/Programs/Python/Python310/lib/site-packages/pandas/core/indexes/base.py?line=3621'>3622</a>\u001b[0m \u001b[39mexcept\u001b[39;00m \u001b[39mKeyError\u001b[39;00m \u001b[39mas\u001b[39;00m err:\n\u001b[1;32m-> <a href='file:///c%3A/Users/Guddu/AppData/Local/Programs/Python/Python310/lib/site-packages/pandas/core/indexes/base.py?line=3622'>3623</a>\u001b[0m     \u001b[39mraise\u001b[39;00m \u001b[39mKeyError\u001b[39;00m(key) \u001b[39mfrom\u001b[39;00m \u001b[39merr\u001b[39;00m\n\u001b[0;32m   <a href='file:///c%3A/Users/Guddu/AppData/Local/Programs/Python/Python310/lib/site-packages/pandas/core/indexes/base.py?line=3623'>3624</a>\u001b[0m \u001b[39mexcept\u001b[39;00m \u001b[39mTypeError\u001b[39;00m:\n\u001b[0;32m   <a href='file:///c%3A/Users/Guddu/AppData/Local/Programs/Python/Python310/lib/site-packages/pandas/core/indexes/base.py?line=3624'>3625</a>\u001b[0m     \u001b[39m# If we have a listlike key, _check_indexing_error will raise\u001b[39;00m\n\u001b[0;32m   <a href='file:///c%3A/Users/Guddu/AppData/Local/Programs/Python/Python310/lib/site-packages/pandas/core/indexes/base.py?line=3625'>3626</a>\u001b[0m     \u001b[39m#  InvalidIndexError. Otherwise we fall through and re-raise\u001b[39;00m\n\u001b[0;32m   <a href='file:///c%3A/Users/Guddu/AppData/Local/Programs/Python/Python310/lib/site-packages/pandas/core/indexes/base.py?line=3626'>3627</a>\u001b[0m     \u001b[39m#  the TypeError.\u001b[39;00m\n\u001b[0;32m   <a href='file:///c%3A/Users/Guddu/AppData/Local/Programs/Python/Python310/lib/site-packages/pandas/core/indexes/base.py?line=3627'>3628</a>\u001b[0m     \u001b[39mself\u001b[39m\u001b[39m.\u001b[39m_check_indexing_error(key)\n",
      "\u001b[1;31mKeyError\u001b[0m: 'Cluster'"
     ]
    }
   ],
   "source": [
    "color=['blue','green','cyan']\n",
    "for k in range(K):\n",
    "    data=X[X[\"Cluster\"]==k+1]\n",
    "    plt.scatter(data[\"ApplicantIncome\"],data[\"LoanAmount\"],c=color[k])\n",
    "plt.scatter(Centroids[\"ApplicantIncome\"],Centroids[\"LoanAmount\"],c='red')\n",
    "plt.xlabel('Income')\n",
    "plt.ylabel('Loan Amount (In Thousands)')\n",
    "plt.show()"
   ]
  },
  {
   "cell_type": "code",
   "execution_count": 121,
   "metadata": {},
   "outputs": [],
   "source": [
    "import numpy as np\n",
    "\n",
    "\n",
    "class KMeans:\n",
    "    \"\"\"K-Means Class\"\"\"\n",
    "\n",
    "    def __init__(self, data, num_clusters):\n",
    "        \"\"\"K-Means class constructor.\n",
    "        :param data: training dataset.\n",
    "        :param num_clusters: number of cluster into which we want to break the dataset.\n",
    "        \"\"\"\n",
    "        self.data = pd.DataFrame(data)\n",
    "        self.num_clusters = num_clusters\n",
    "        self.centroids = None\n",
    "\n",
    "    def train(self, max_iterations):\n",
    "        \"\"\"Function performs data clustering using K-Means algorithm\n",
    "        :param max_iterations: maximum number of training iterations.\n",
    "        \"\"\"\n",
    "\n",
    "        # Generate random centroids based on training set.\n",
    "        centroids = KMeans.centroids_init(self.data, self.num_clusters)\n",
    "\n",
    "        # Init default array of closest centroid IDs.\n",
    "        num_examples = self.data.shape[0]\n",
    "        closest_centroids_ids = np.empty((num_examples, 1))\n",
    "\n",
    "        # Run K-Means.\n",
    "        for _ in range(max_iterations):\n",
    "            # Find the closest centroids for training examples.\n",
    "            closest_centroids_ids = KMeans.centroids_find_closest(self.data, centroids)\n",
    "\n",
    "            # Compute means based on the closest centroids found in the previous part.\n",
    "            centroids = KMeans.centroids_compute(\n",
    "                self.data,\n",
    "                closest_centroids_ids,\n",
    "                self.num_clusters\n",
    "            )\n",
    "        self.centroids = centroids\n",
    "\n",
    "        return centroids, closest_centroids_ids\n",
    "\n",
    "    @staticmethod\n",
    "    def centroids_init(data, num_clusters):\n",
    "        \"\"\"Initializes num_clusters centroids that are to be used in K-Means on the dataset X\n",
    "        :param data: training dataset.\n",
    "        :param num_clusters: number of cluster into which we want to break the dataset.\n",
    "        \"\"\"\n",
    "\n",
    "        # Get number of training examples.\n",
    "        num_examples = data.shape[0]\n",
    "\n",
    "        # Randomly reorder indices of training examples.\n",
    "        random_ids = np.random.permutation(num_examples)\n",
    "\n",
    "        # Take the first K examples as centroids.\n",
    "        centroids = data.iloc[random_ids[:num_clusters], :]\n",
    "\n",
    "        # Return generated centroids.\n",
    "        return centroids\n",
    "\n",
    "    @staticmethod\n",
    "    def centroids_find_closest(data, centroids):\n",
    "        \"\"\"Computes the centroid memberships for every example.\n",
    "        Returns the closest centroids in closest_centroids_ids for a dataset X where each row is\n",
    "        a single example. closest_centroids_ids = m x 1 vector of centroid assignments (i.e. each\n",
    "        entry in range [1..K]).\n",
    "        :param data: training dataset.\n",
    "        :param centroids: list of centroid points.\n",
    "        \"\"\"\n",
    "\n",
    "        # Get number of training examples.\n",
    "        num_examples = data.shape[0]\n",
    "\n",
    "        # Get number of centroids.\n",
    "        num_centroids = centroids.shape[0]\n",
    "        # print(\"==========>>>>\",type(centroids))\n",
    "        # We need to return the following variables correctly.\n",
    "        closest_centroids_ids = np.zeros((num_examples, 1))\n",
    "\n",
    "        # Go over every example, find its closest centroid, and store\n",
    "        # the index inside closest_centroids_ids at the appropriate location.\n",
    "        # Concretely, closest_centroids_ids(i) should contain the index of the centroid\n",
    "        # closest to example i. Hence, it should be a value in the range 1...num_centroids.\n",
    "        for example_index in range(num_examples):\n",
    "            distances = np.zeros((num_centroids, 1))\n",
    "            for centroid_index in range(num_centroids):\n",
    "                centroids = pd.DataFrame(centroids)\n",
    "                distance_difference = data.iloc[example_index, :] - centroids.iloc[centroid_index, :]\n",
    "                distances[centroid_index] = np.sum(distance_difference ** 2)\n",
    "            closest_centroids_ids[example_index] = np.argmin(distances)\n",
    "\n",
    "        return closest_centroids_ids\n",
    "    \n",
    "    def cost(self):\n",
    "        \"\"\"Computes the centroid memberships for every example.\n",
    "        Returns the closest centroids in closest_centroids_ids for a dataset X where each row is\n",
    "        a single example. closest_centroids_ids = m x 1 vector of centroid assignments (i.e. each\n",
    "        entry in range [1..K]).\n",
    "        :param data: training dataset.\n",
    "        :param centroids: list of centroid points.\n",
    "        \"\"\"\n",
    "\n",
    "        data = self.data\n",
    "        num_examples = self.data.shape[0]\n",
    "        num_centroids = self.num_clusters\n",
    "        if type(self.centroids)==type(None):\n",
    "            self.train(num_examples,100)\n",
    "        centroids = self.centroids\n",
    "\n",
    "        # Get number of training examples.\n",
    "        #  = data.shape[0]\n",
    "\n",
    "        # Get number of centroids.\n",
    "        #  = centroids.shape[0]\n",
    "        # print(\"==========>>>>\",type(centroids))\n",
    "        # We need to return the following variables correctly.\n",
    "        closest_centroids_ids = np.zeros((num_examples, 1))\n",
    "\n",
    "        # Go over every example, find its closest centroid, and store\n",
    "        # the index inside closest_centroids_ids at the appropriate location.\n",
    "        # Concretely, closest_centroids_ids(i) should contain the index of the centroid\n",
    "        # closest to example i. Hence, it should be a value in the range 1...num_centroids.\n",
    "        j = 0\n",
    "        for example_index in range(num_examples):\n",
    "            distances = np.zeros((num_centroids, 1))\n",
    "            for centroid_index in range(num_centroids):\n",
    "                centroids = pd.DataFrame(centroids)\n",
    "                distance_difference = data.iloc[example_index, :] - centroids.iloc[centroid_index, :]\n",
    "                distances[centroid_index] = np.sum(distance_difference ** 2)\n",
    "            # print(distances)\n",
    "            j += np.min(distances)\n",
    "            # closest_centroids_ids[example_index] = np.argmin(distances)\n",
    "\n",
    "        return j\n",
    "\n",
    "    @staticmethod\n",
    "    def centroids_compute(data, closest_centroids_ids, num_clusters):\n",
    "        \"\"\"Compute new centroids.\n",
    "        Returns the new centroids by computing the means of the data points assigned to\n",
    "        each centroid.\n",
    "        :param data: training dataset.\n",
    "        :param closest_centroids_ids: list of closest centroid ids per each training example.\n",
    "        :param num_clusters: number of clusters.\n",
    "        \"\"\"\n",
    "\n",
    "        # Get number of features.\n",
    "        num_features = data.shape[1]\n",
    "\n",
    "        # We need to return the following variables correctly.\n",
    "        centroids = np.zeros((num_clusters, num_features))\n",
    "\n",
    "        # Go over every centroid and compute mean of all points that\n",
    "        # belong to it. Concretely, the row vector centroids(i, :)\n",
    "        # should contain the mean of the data points assigned to\n",
    "        # centroid i.\n",
    "        for centroid_id in range(num_clusters):\n",
    "            closest_ids = closest_centroids_ids == centroid_id\n",
    "            centroids[centroid_id] = np.mean(data.iloc[closest_ids.flatten(), :], axis=0)\n",
    "\n",
    "        return centroids"
   ]
  },
  {
   "cell_type": "code",
   "execution_count": 123,
   "metadata": {},
   "outputs": [
    {
     "data": {
      "image/png": "[encoded data removed]",
      "text/plain": [
       "<Figure size 432x288 with 1 Axes>"
      ]
     },
     "metadata": {
      "needs_background": "light"
     },
     "output_type": "display_data"
    }
   ],
   "source": [
    "#################### from sklearn.cluster import KMeans\n",
    "\n",
    "# k = 11\n",
    "# cs = []\n",
    "# for i in range(1, k):\n",
    "#     # kmeans = KMeans(n_clusters = i, init = 'k-means++', max_iter = 300, n_init = 10, random_state = 0)\n",
    "#     kmeans = KMeans(data,i)\n",
    "#     kmeans.train(5)\n",
    "#     cs.append(kmeans.cost())\n",
    "plt.plot(range(1, len(cs)+1), cs)\n",
    "plt.title('The Elbow Method')\n",
    "plt.xlabel('Number of clusters')\n",
    "plt.ylabel('CS')\n",
    "plt.show()"
   ]
  },
  {
   "cell_type": "code",
   "execution_count": 132,
   "metadata": {},
   "outputs": [
    {
     "ename": "TypeError",
     "evalue": "'value' must be an instance of str or bytes, not a float",
     "output_type": "error",
     "traceback": [
      "\u001b[1;31m---------------------------------------------------------------------------\u001b[0m",
      "\u001b[1;31mTypeError\u001b[0m                                 Traceback (most recent call last)",
      "\u001b[1;32mc:\\Users\\Guddu\\OneDrive\\Documents\\HackOF\\kmean_model.ipynb Cell 10'\u001b[0m in \u001b[0;36m<cell line: 1>\u001b[1;34m()\u001b[0m\n\u001b[1;32m----> <a href='vscode-notebook-cell:/c%3A/Users/Guddu/OneDrive/Documents/HackOF/kmean_model.ipynb#ch0000011?line=0'>1</a>\u001b[0m plt\u001b[39m.\u001b[39;49mscatter(data\u001b[39m.\u001b[39;49miloc[:,\u001b[39m0\u001b[39;49m],data\u001b[39m.\u001b[39;49miloc[:,\u001b[39m1\u001b[39;49m])\n\u001b[0;32m      <a href='vscode-notebook-cell:/c%3A/Users/Guddu/OneDrive/Documents/HackOF/kmean_model.ipynb#ch0000011?line=1'>2</a>\u001b[0m plt\u001b[39m.\u001b[39mshow()\n\u001b[0;32m      <a href='vscode-notebook-cell:/c%3A/Users/Guddu/OneDrive/Documents/HackOF/kmean_model.ipynb#ch0000011?line=4'>5</a>\u001b[0m kmeans \u001b[39m=\u001b[39m KMeans(data\u001b[39m.\u001b[39miloc[:,:\u001b[39m2\u001b[39m],\u001b[39m3\u001b[39m)\n",
      "File \u001b[1;32m~\\AppData\\Local\\Programs\\Python\\Python310\\lib\\site-packages\\matplotlib\\pyplot.py:2807\u001b[0m, in \u001b[0;36mscatter\u001b[1;34m(x, y, s, c, marker, cmap, norm, vmin, vmax, alpha, linewidths, edgecolors, plotnonfinite, data, **kwargs)\u001b[0m\n\u001b[0;32m   <a href='file:///c%3A/Users/Guddu/AppData/Local/Programs/Python/Python310/lib/site-packages/matplotlib/pyplot.py?line=2801'>2802</a>\u001b[0m \u001b[39m@_copy_docstring_and_deprecators\u001b[39m(Axes\u001b[39m.\u001b[39mscatter)\n\u001b[0;32m   <a href='file:///c%3A/Users/Guddu/AppData/Local/Programs/Python/Python310/lib/site-packages/matplotlib/pyplot.py?line=2802'>2803</a>\u001b[0m \u001b[39mdef\u001b[39;00m \u001b[39mscatter\u001b[39m(\n\u001b[0;32m   <a href='file:///c%3A/Users/Guddu/AppData/Local/Programs/Python/Python310/lib/site-packages/matplotlib/pyplot.py?line=2803'>2804</a>\u001b[0m         x, y, s\u001b[39m=\u001b[39m\u001b[39mNone\u001b[39;00m, c\u001b[39m=\u001b[39m\u001b[39mNone\u001b[39;00m, marker\u001b[39m=\u001b[39m\u001b[39mNone\u001b[39;00m, cmap\u001b[39m=\u001b[39m\u001b[39mNone\u001b[39;00m, norm\u001b[39m=\u001b[39m\u001b[39mNone\u001b[39;00m,\n\u001b[0;32m   <a href='file:///c%3A/Users/Guddu/AppData/Local/Programs/Python/Python310/lib/site-packages/matplotlib/pyplot.py?line=2804'>2805</a>\u001b[0m         vmin\u001b[39m=\u001b[39m\u001b[39mNone\u001b[39;00m, vmax\u001b[39m=\u001b[39m\u001b[39mNone\u001b[39;00m, alpha\u001b[39m=\u001b[39m\u001b[39mNone\u001b[39;00m, linewidths\u001b[39m=\u001b[39m\u001b[39mNone\u001b[39;00m, \u001b[39m*\u001b[39m,\n\u001b[0;32m   <a href='file:///c%3A/Users/Guddu/AppData/Local/Programs/Python/Python310/lib/site-packages/matplotlib/pyplot.py?line=2805'>2806</a>\u001b[0m         edgecolors\u001b[39m=\u001b[39m\u001b[39mNone\u001b[39;00m, plotnonfinite\u001b[39m=\u001b[39m\u001b[39mFalse\u001b[39;00m, data\u001b[39m=\u001b[39m\u001b[39mNone\u001b[39;00m, \u001b[39m*\u001b[39m\u001b[39m*\u001b[39mkwargs):\n\u001b[1;32m-> <a href='file:///c%3A/Users/Guddu/AppData/Local/Programs/Python/Python310/lib/site-packages/matplotlib/pyplot.py?line=2806'>2807</a>\u001b[0m     __ret \u001b[39m=\u001b[39m gca()\u001b[39m.\u001b[39mscatter(\n\u001b[0;32m   <a href='file:///c%3A/Users/Guddu/AppData/Local/Programs/Python/Python310/lib/site-packages/matplotlib/pyplot.py?line=2807'>2808</a>\u001b[0m         x, y, s\u001b[39m=\u001b[39ms, c\u001b[39m=\u001b[39mc, marker\u001b[39m=\u001b[39mmarker, cmap\u001b[39m=\u001b[39mcmap, norm\u001b[39m=\u001b[39mnorm,\n\u001b[0;32m   <a href='file:///c%3A/Users/Guddu/AppData/Local/Programs/Python/Python310/lib/site-packages/matplotlib/pyplot.py?line=2808'>2809</a>\u001b[0m         vmin\u001b[39m=\u001b[39mvmin, vmax\u001b[39m=\u001b[39mvmax, alpha\u001b[39m=\u001b[39malpha, linewidths\u001b[39m=\u001b[39mlinewidths,\n\u001b[0;32m   <a href='file:///c%3A/Users/Guddu/AppData/Local/Programs/Python/Python310/lib/site-packages/matplotlib/pyplot.py?line=2809'>2810</a>\u001b[0m         edgecolors\u001b[39m=\u001b[39medgecolors, plotnonfinite\u001b[39m=\u001b[39mplotnonfinite,\n\u001b[0;32m   <a href='file:///c%3A/Users/Guddu/AppData/Local/Programs/Python/Python310/lib/site-packages/matplotlib/pyplot.py?line=2810'>2811</a>\u001b[0m         \u001b[39m*\u001b[39m\u001b[39m*\u001b[39m({\u001b[39m\"\u001b[39m\u001b[39mdata\u001b[39m\u001b[39m\"\u001b[39m: data} \u001b[39mif\u001b[39;00m data \u001b[39mis\u001b[39;00m \u001b[39mnot\u001b[39;00m \u001b[39mNone\u001b[39;00m \u001b[39melse\u001b[39;00m {}), \u001b[39m*\u001b[39m\u001b[39m*\u001b[39mkwargs)\n\u001b[0;32m   <a href='file:///c%3A/Users/Guddu/AppData/Local/Programs/Python/Python310/lib/site-packages/matplotlib/pyplot.py?line=2811'>2812</a>\u001b[0m     sci(__ret)\n\u001b[0;32m   <a href='file:///c%3A/Users/Guddu/AppData/Local/Programs/Python/Python310/lib/site-packages/matplotlib/pyplot.py?line=2812'>2813</a>\u001b[0m     \u001b[39mreturn\u001b[39;00m __ret\n",
      "File \u001b[1;32m~\\AppData\\Local\\Programs\\Python\\Python310\\lib\\site-packages\\matplotlib\\__init__.py:1412\u001b[0m, in \u001b[0;36m_preprocess_data.<locals>.inner\u001b[1;34m(ax, data, *args, **kwargs)\u001b[0m\n\u001b[0;32m   <a href='file:///c%3A/Users/Guddu/AppData/Local/Programs/Python/Python310/lib/site-packages/matplotlib/__init__.py?line=1408'>1409</a>\u001b[0m \u001b[39m@functools\u001b[39m\u001b[39m.\u001b[39mwraps(func)\n\u001b[0;32m   <a href='file:///c%3A/Users/Guddu/AppData/Local/Programs/Python/Python310/lib/site-packages/matplotlib/__init__.py?line=1409'>1410</a>\u001b[0m \u001b[39mdef\u001b[39;00m \u001b[39minner\u001b[39m(ax, \u001b[39m*\u001b[39margs, data\u001b[39m=\u001b[39m\u001b[39mNone\u001b[39;00m, \u001b[39m*\u001b[39m\u001b[39m*\u001b[39mkwargs):\n\u001b[0;32m   <a href='file:///c%3A/Users/Guddu/AppData/Local/Programs/Python/Python310/lib/site-packages/matplotlib/__init__.py?line=1410'>1411</a>\u001b[0m     \u001b[39mif\u001b[39;00m data \u001b[39mis\u001b[39;00m \u001b[39mNone\u001b[39;00m:\n\u001b[1;32m-> <a href='file:///c%3A/Users/Guddu/AppData/Local/Programs/Python/Python310/lib/site-packages/matplotlib/__init__.py?line=1411'>1412</a>\u001b[0m         \u001b[39mreturn\u001b[39;00m func(ax, \u001b[39m*\u001b[39m\u001b[39mmap\u001b[39m(sanitize_sequence, args), \u001b[39m*\u001b[39m\u001b[39m*\u001b[39mkwargs)\n\u001b[0;32m   <a href='file:///c%3A/Users/Guddu/AppData/Local/Programs/Python/Python310/lib/site-packages/matplotlib/__init__.py?line=1413'>1414</a>\u001b[0m     bound \u001b[39m=\u001b[39m new_sig\u001b[39m.\u001b[39mbind(ax, \u001b[39m*\u001b[39margs, \u001b[39m*\u001b[39m\u001b[39m*\u001b[39mkwargs)\n\u001b[0;32m   <a href='file:///c%3A/Users/Guddu/AppData/Local/Programs/Python/Python310/lib/site-packages/matplotlib/__init__.py?line=1414'>1415</a>\u001b[0m     auto_label \u001b[39m=\u001b[39m (bound\u001b[39m.\u001b[39marguments\u001b[39m.\u001b[39mget(label_namer)\n\u001b[0;32m   <a href='file:///c%3A/Users/Guddu/AppData/Local/Programs/Python/Python310/lib/site-packages/matplotlib/__init__.py?line=1415'>1416</a>\u001b[0m                   \u001b[39mor\u001b[39;00m bound\u001b[39m.\u001b[39mkwargs\u001b[39m.\u001b[39mget(label_namer))\n",
      "File \u001b[1;32m~\\AppData\\Local\\Programs\\Python\\Python310\\lib\\site-packages\\matplotlib\\axes\\_axes.py:4363\u001b[0m, in \u001b[0;36mAxes.scatter\u001b[1;34m(self, x, y, s, c, marker, cmap, norm, vmin, vmax, alpha, linewidths, edgecolors, plotnonfinite, **kwargs)\u001b[0m\n\u001b[0;32m   <a href='file:///c%3A/Users/Guddu/AppData/Local/Programs/Python/Python310/lib/site-packages/matplotlib/axes/_axes.py?line=4248'>4249</a>\u001b[0m \u001b[39m\"\"\"\u001b[39;00m\n\u001b[0;32m   <a href='file:///c%3A/Users/Guddu/AppData/Local/Programs/Python/Python310/lib/site-packages/matplotlib/axes/_axes.py?line=4249'>4250</a>\u001b[0m \u001b[39mA scatter plot of *y* vs. *x* with varying marker size and/or color.\u001b[39;00m\n\u001b[0;32m   <a href='file:///c%3A/Users/Guddu/AppData/Local/Programs/Python/Python310/lib/site-packages/matplotlib/axes/_axes.py?line=4250'>4251</a>\u001b[0m \n\u001b[1;32m   (...)\u001b[0m\n\u001b[0;32m   <a href='file:///c%3A/Users/Guddu/AppData/Local/Programs/Python/Python310/lib/site-packages/matplotlib/axes/_axes.py?line=4359'>4360</a>\u001b[0m \n\u001b[0;32m   <a href='file:///c%3A/Users/Guddu/AppData/Local/Programs/Python/Python310/lib/site-packages/matplotlib/axes/_axes.py?line=4360'>4361</a>\u001b[0m \u001b[39m\"\"\"\u001b[39;00m\n\u001b[0;32m   <a href='file:///c%3A/Users/Guddu/AppData/Local/Programs/Python/Python310/lib/site-packages/matplotlib/axes/_axes.py?line=4361'>4362</a>\u001b[0m \u001b[39m# Process **kwargs to handle aliases, conflicts with explicit kwargs:\u001b[39;00m\n\u001b[1;32m-> <a href='file:///c%3A/Users/Guddu/AppData/Local/Programs/Python/Python310/lib/site-packages/matplotlib/axes/_axes.py?line=4362'>4363</a>\u001b[0m x, y \u001b[39m=\u001b[39m \u001b[39mself\u001b[39;49m\u001b[39m.\u001b[39;49m_process_unit_info([(\u001b[39m\"\u001b[39;49m\u001b[39mx\u001b[39;49m\u001b[39m\"\u001b[39;49m, x), (\u001b[39m\"\u001b[39;49m\u001b[39my\u001b[39;49m\u001b[39m\"\u001b[39;49m, y)], kwargs)\n\u001b[0;32m   <a href='file:///c%3A/Users/Guddu/AppData/Local/Programs/Python/Python310/lib/site-packages/matplotlib/axes/_axes.py?line=4363'>4364</a>\u001b[0m \u001b[39m# np.ma.ravel yields an ndarray, not a masked array,\u001b[39;00m\n\u001b[0;32m   <a href='file:///c%3A/Users/Guddu/AppData/Local/Programs/Python/Python310/lib/site-packages/matplotlib/axes/_axes.py?line=4364'>4365</a>\u001b[0m \u001b[39m# unless its argument is a masked array.\u001b[39;00m\n\u001b[0;32m   <a href='file:///c%3A/Users/Guddu/AppData/Local/Programs/Python/Python310/lib/site-packages/matplotlib/axes/_axes.py?line=4365'>4366</a>\u001b[0m x \u001b[39m=\u001b[39m np\u001b[39m.\u001b[39mma\u001b[39m.\u001b[39mravel(x)\n",
      "File \u001b[1;32m~\\AppData\\Local\\Programs\\Python\\Python310\\lib\\site-packages\\matplotlib\\axes\\_base.py:2521\u001b[0m, in \u001b[0;36m_AxesBase._process_unit_info\u001b[1;34m(self, datasets, kwargs, convert)\u001b[0m\n\u001b[0;32m   <a href='file:///c%3A/Users/Guddu/AppData/Local/Programs/Python/Python310/lib/site-packages/matplotlib/axes/_base.py?line=2518'>2519</a>\u001b[0m     \u001b[39m# Update from data if axis is already set but no unit is set yet.\u001b[39;00m\n\u001b[0;32m   <a href='file:///c%3A/Users/Guddu/AppData/Local/Programs/Python/Python310/lib/site-packages/matplotlib/axes/_base.py?line=2519'>2520</a>\u001b[0m     \u001b[39mif\u001b[39;00m axis \u001b[39mis\u001b[39;00m \u001b[39mnot\u001b[39;00m \u001b[39mNone\u001b[39;00m \u001b[39mand\u001b[39;00m data \u001b[39mis\u001b[39;00m \u001b[39mnot\u001b[39;00m \u001b[39mNone\u001b[39;00m \u001b[39mand\u001b[39;00m \u001b[39mnot\u001b[39;00m axis\u001b[39m.\u001b[39mhave_units():\n\u001b[1;32m-> <a href='file:///c%3A/Users/Guddu/AppData/Local/Programs/Python/Python310/lib/site-packages/matplotlib/axes/_base.py?line=2520'>2521</a>\u001b[0m         axis\u001b[39m.\u001b[39;49mupdate_units(data)\n\u001b[0;32m   <a href='file:///c%3A/Users/Guddu/AppData/Local/Programs/Python/Python310/lib/site-packages/matplotlib/axes/_base.py?line=2521'>2522</a>\u001b[0m \u001b[39mfor\u001b[39;00m axis_name, axis \u001b[39min\u001b[39;00m axis_map\u001b[39m.\u001b[39mitems():\n\u001b[0;32m   <a href='file:///c%3A/Users/Guddu/AppData/Local/Programs/Python/Python310/lib/site-packages/matplotlib/axes/_base.py?line=2522'>2523</a>\u001b[0m     \u001b[39m# Return if no axis is set.\u001b[39;00m\n\u001b[0;32m   <a href='file:///c%3A/Users/Guddu/AppData/Local/Programs/Python/Python310/lib/site-packages/matplotlib/axes/_base.py?line=2523'>2524</a>\u001b[0m     \u001b[39mif\u001b[39;00m axis \u001b[39mis\u001b[39;00m \u001b[39mNone\u001b[39;00m:\n",
      "File \u001b[1;32m~\\AppData\\Local\\Programs\\Python\\Python310\\lib\\site-packages\\matplotlib\\axis.py:1449\u001b[0m, in \u001b[0;36mAxis.update_units\u001b[1;34m(self, data)\u001b[0m\n\u001b[0;32m   <a href='file:///c%3A/Users/Guddu/AppData/Local/Programs/Python/Python310/lib/site-packages/matplotlib/axis.py?line=1446'>1447</a>\u001b[0m neednew \u001b[39m=\u001b[39m \u001b[39mself\u001b[39m\u001b[39m.\u001b[39mconverter \u001b[39m!=\u001b[39m converter\n\u001b[0;32m   <a href='file:///c%3A/Users/Guddu/AppData/Local/Programs/Python/Python310/lib/site-packages/matplotlib/axis.py?line=1447'>1448</a>\u001b[0m \u001b[39mself\u001b[39m\u001b[39m.\u001b[39mconverter \u001b[39m=\u001b[39m converter\n\u001b[1;32m-> <a href='file:///c%3A/Users/Guddu/AppData/Local/Programs/Python/Python310/lib/site-packages/matplotlib/axis.py?line=1448'>1449</a>\u001b[0m default \u001b[39m=\u001b[39m \u001b[39mself\u001b[39;49m\u001b[39m.\u001b[39;49mconverter\u001b[39m.\u001b[39;49mdefault_units(data, \u001b[39mself\u001b[39;49m)\n\u001b[0;32m   <a href='file:///c%3A/Users/Guddu/AppData/Local/Programs/Python/Python310/lib/site-packages/matplotlib/axis.py?line=1449'>1450</a>\u001b[0m \u001b[39mif\u001b[39;00m default \u001b[39mis\u001b[39;00m \u001b[39mnot\u001b[39;00m \u001b[39mNone\u001b[39;00m \u001b[39mand\u001b[39;00m \u001b[39mself\u001b[39m\u001b[39m.\u001b[39munits \u001b[39mis\u001b[39;00m \u001b[39mNone\u001b[39;00m:\n\u001b[0;32m   <a href='file:///c%3A/Users/Guddu/AppData/Local/Programs/Python/Python310/lib/site-packages/matplotlib/axis.py?line=1450'>1451</a>\u001b[0m     \u001b[39mself\u001b[39m\u001b[39m.\u001b[39mset_units(default)\n",
      "File \u001b[1;32m~\\AppData\\Local\\Programs\\Python\\Python310\\lib\\site-packages\\matplotlib\\category.py:116\u001b[0m, in \u001b[0;36mStrCategoryConverter.default_units\u001b[1;34m(data, axis)\u001b[0m\n\u001b[0;32m    <a href='file:///c%3A/Users/Guddu/AppData/Local/Programs/Python/Python310/lib/site-packages/matplotlib/category.py?line=113'>114</a>\u001b[0m \u001b[39m# the conversion call stack is default_units -> axis_info -> convert\u001b[39;00m\n\u001b[0;32m    <a href='file:///c%3A/Users/Guddu/AppData/Local/Programs/Python/Python310/lib/site-packages/matplotlib/category.py?line=114'>115</a>\u001b[0m \u001b[39mif\u001b[39;00m axis\u001b[39m.\u001b[39munits \u001b[39mis\u001b[39;00m \u001b[39mNone\u001b[39;00m:\n\u001b[1;32m--> <a href='file:///c%3A/Users/Guddu/AppData/Local/Programs/Python/Python310/lib/site-packages/matplotlib/category.py?line=115'>116</a>\u001b[0m     axis\u001b[39m.\u001b[39mset_units(UnitData(data))\n\u001b[0;32m    <a href='file:///c%3A/Users/Guddu/AppData/Local/Programs/Python/Python310/lib/site-packages/matplotlib/category.py?line=116'>117</a>\u001b[0m \u001b[39melse\u001b[39;00m:\n\u001b[0;32m    <a href='file:///c%3A/Users/Guddu/AppData/Local/Programs/Python/Python310/lib/site-packages/matplotlib/category.py?line=117'>118</a>\u001b[0m     axis\u001b[39m.\u001b[39munits\u001b[39m.\u001b[39mupdate(data)\n",
      "File \u001b[1;32m~\\AppData\\Local\\Programs\\Python\\Python310\\lib\\site-packages\\matplotlib\\category.py:192\u001b[0m, in \u001b[0;36mUnitData.__init__\u001b[1;34m(self, data)\u001b[0m\n\u001b[0;32m    <a href='file:///c%3A/Users/Guddu/AppData/Local/Programs/Python/Python310/lib/site-packages/matplotlib/category.py?line=189'>190</a>\u001b[0m \u001b[39mself\u001b[39m\u001b[39m.\u001b[39m_counter \u001b[39m=\u001b[39m itertools\u001b[39m.\u001b[39mcount()\n\u001b[0;32m    <a href='file:///c%3A/Users/Guddu/AppData/Local/Programs/Python/Python310/lib/site-packages/matplotlib/category.py?line=190'>191</a>\u001b[0m \u001b[39mif\u001b[39;00m data \u001b[39mis\u001b[39;00m \u001b[39mnot\u001b[39;00m \u001b[39mNone\u001b[39;00m:\n\u001b[1;32m--> <a href='file:///c%3A/Users/Guddu/AppData/Local/Programs/Python/Python310/lib/site-packages/matplotlib/category.py?line=191'>192</a>\u001b[0m     \u001b[39mself\u001b[39;49m\u001b[39m.\u001b[39;49mupdate(data)\n",
      "File \u001b[1;32m~\\AppData\\Local\\Programs\\Python\\Python310\\lib\\site-packages\\matplotlib\\category.py:227\u001b[0m, in \u001b[0;36mUnitData.update\u001b[1;34m(self, data)\u001b[0m\n\u001b[0;32m    <a href='file:///c%3A/Users/Guddu/AppData/Local/Programs/Python/Python310/lib/site-packages/matplotlib/category.py?line=223'>224</a>\u001b[0m convertible \u001b[39m=\u001b[39m \u001b[39mTrue\u001b[39;00m\n\u001b[0;32m    <a href='file:///c%3A/Users/Guddu/AppData/Local/Programs/Python/Python310/lib/site-packages/matplotlib/category.py?line=224'>225</a>\u001b[0m \u001b[39mfor\u001b[39;00m val \u001b[39min\u001b[39;00m OrderedDict\u001b[39m.\u001b[39mfromkeys(data):\n\u001b[0;32m    <a href='file:///c%3A/Users/Guddu/AppData/Local/Programs/Python/Python310/lib/site-packages/matplotlib/category.py?line=225'>226</a>\u001b[0m     \u001b[39m# OrderedDict just iterates over unique values in data.\u001b[39;00m\n\u001b[1;32m--> <a href='file:///c%3A/Users/Guddu/AppData/Local/Programs/Python/Python310/lib/site-packages/matplotlib/category.py?line=226'>227</a>\u001b[0m     _api\u001b[39m.\u001b[39;49mcheck_isinstance((\u001b[39mstr\u001b[39;49m, \u001b[39mbytes\u001b[39;49m), value\u001b[39m=\u001b[39;49mval)\n\u001b[0;32m    <a href='file:///c%3A/Users/Guddu/AppData/Local/Programs/Python/Python310/lib/site-packages/matplotlib/category.py?line=227'>228</a>\u001b[0m     \u001b[39mif\u001b[39;00m convertible:\n\u001b[0;32m    <a href='file:///c%3A/Users/Guddu/AppData/Local/Programs/Python/Python310/lib/site-packages/matplotlib/category.py?line=228'>229</a>\u001b[0m         \u001b[39m# this will only be called so long as convertible is True.\u001b[39;00m\n\u001b[0;32m    <a href='file:///c%3A/Users/Guddu/AppData/Local/Programs/Python/Python310/lib/site-packages/matplotlib/category.py?line=229'>230</a>\u001b[0m         convertible \u001b[39m=\u001b[39m \u001b[39mself\u001b[39m\u001b[39m.\u001b[39m_str_is_convertible(val)\n",
      "File \u001b[1;32m~\\AppData\\Local\\Programs\\Python\\Python310\\lib\\site-packages\\matplotlib\\_api\\__init__.py:93\u001b[0m, in \u001b[0;36mcheck_isinstance\u001b[1;34m(_types, **kwargs)\u001b[0m\n\u001b[0;32m     <a href='file:///c%3A/Users/Guddu/AppData/Local/Programs/Python/Python310/lib/site-packages/matplotlib/_api/__init__.py?line=90'>91</a>\u001b[0m     names\u001b[39m.\u001b[39mremove(\u001b[39m\"\u001b[39m\u001b[39mNone\u001b[39m\u001b[39m\"\u001b[39m)\n\u001b[0;32m     <a href='file:///c%3A/Users/Guddu/AppData/Local/Programs/Python/Python310/lib/site-packages/matplotlib/_api/__init__.py?line=91'>92</a>\u001b[0m     names\u001b[39m.\u001b[39mappend(\u001b[39m\"\u001b[39m\u001b[39mNone\u001b[39m\u001b[39m\"\u001b[39m)\n\u001b[1;32m---> <a href='file:///c%3A/Users/Guddu/AppData/Local/Programs/Python/Python310/lib/site-packages/matplotlib/_api/__init__.py?line=92'>93</a>\u001b[0m \u001b[39mraise\u001b[39;00m \u001b[39mTypeError\u001b[39;00m(\n\u001b[0;32m     <a href='file:///c%3A/Users/Guddu/AppData/Local/Programs/Python/Python310/lib/site-packages/matplotlib/_api/__init__.py?line=93'>94</a>\u001b[0m     \u001b[39m\"\u001b[39m\u001b[39m{!r}\u001b[39;00m\u001b[39m must be an instance of \u001b[39m\u001b[39m{}\u001b[39;00m\u001b[39m, not a \u001b[39m\u001b[39m{}\u001b[39;00m\u001b[39m\"\u001b[39m\u001b[39m.\u001b[39mformat(\n\u001b[0;32m     <a href='file:///c%3A/Users/Guddu/AppData/Local/Programs/Python/Python310/lib/site-packages/matplotlib/_api/__init__.py?line=94'>95</a>\u001b[0m         k,\n\u001b[0;32m     <a href='file:///c%3A/Users/Guddu/AppData/Local/Programs/Python/Python310/lib/site-packages/matplotlib/_api/__init__.py?line=95'>96</a>\u001b[0m         \u001b[39m\"\u001b[39m\u001b[39m, \u001b[39m\u001b[39m\"\u001b[39m\u001b[39m.\u001b[39mjoin(names[:\u001b[39m-\u001b[39m\u001b[39m1\u001b[39m]) \u001b[39m+\u001b[39m \u001b[39m\"\u001b[39m\u001b[39m or \u001b[39m\u001b[39m\"\u001b[39m \u001b[39m+\u001b[39m names[\u001b[39m-\u001b[39m\u001b[39m1\u001b[39m]\n\u001b[0;32m     <a href='file:///c%3A/Users/Guddu/AppData/Local/Programs/Python/Python310/lib/site-packages/matplotlib/_api/__init__.py?line=96'>97</a>\u001b[0m         \u001b[39mif\u001b[39;00m \u001b[39mlen\u001b[39m(names) \u001b[39m>\u001b[39m \u001b[39m1\u001b[39m \u001b[39melse\u001b[39;00m names[\u001b[39m0\u001b[39m],\n\u001b[0;32m     <a href='file:///c%3A/Users/Guddu/AppData/Local/Programs/Python/Python310/lib/site-packages/matplotlib/_api/__init__.py?line=97'>98</a>\u001b[0m         type_name(\u001b[39mtype\u001b[39m(v))))\n",
      "\u001b[1;31mTypeError\u001b[0m: 'value' must be an instance of str or bytes, not a float"
     ]
    },
    {
     "data": {
      "image/png": "[encoded data removed]",
      "text/plain": [
       "<Figure size 432x288 with 1 Axes>"
      ]
     },
     "metadata": {
      "needs_background": "light"
     },
     "output_type": "display_data"
    }
   ],
   "source": [
    "plt.scatter(data.iloc[:,0],data.iloc[:,1])\n",
    "plt.show()\n",
    "\n",
    "\n",
    "kmeans = KMeans(data.iloc[:,:2],3)\n",
    "kmeans.train(10)\n",
    "print(kmeans.cost())"
   ]
  },
  {
   "cell_type": "code",
   "execution_count": 85,
   "metadata": {},
   "outputs": [
    {
     "data": {
      "text/plain": [
       "True"
      ]
     },
     "execution_count": 85,
     "metadata": {},
     "output_type": "execute_result"
    }
   ],
   "source": [
    "data\n",
    "type(None)==type(None)"
   ]
  },
  {
   "cell_type": "code",
   "execution_count": 68,
   "metadata": {},
   "outputs": [
    {
     "name": "stdout",
     "output_type": "stream",
     "text": [
      "(182, 6) [169 107  76 141 133 129  99  74  26  81  75  57   5  83 134 166 130 181\n",
      "  67 152 179  89 156 109   7 147 121  61 146  49   1  70 118 149  12   8\n",
      " 157 164  35 126 120 159  50  85  88 136  68  86 110  22   6  56 114 178\n",
      " 163  91 101  38  41  71  65 106 177 112 123 135 122  18 162  77  45 158\n",
      "  78  92 113  93 173  97  15  51  40  14 180  16 105  53  64 116 144  44\n",
      " 103  98  28  29  59  31 168   3 104  84  52  42 137 125  48  62 155  95\n",
      " 119  19 161  90 127  54 138  69  80 139  79  96  87  27  21 102 140 176\n",
      "  34 148  17 131  43 142 100 132 108 145 117  36  37 154 128 115  72  66\n",
      "  94  24  13   9 170 124  11 151 175  63  39 143  46  73  47 174  20   0\n",
      "   2  58  60 172 111  10  30   4  23 165 160  25  32  33 171 167 153 150\n",
      "  82  55]\n",
      "(1, 6) <class 'pandas.core.frame.DataFrame'>\n"
     ]
    },
    {
     "data": {
      "text/plain": [
       "LoanAmount           47.000000\n",
       "ApplicantIncome    1800.000000\n",
       "1                  2234.477600\n",
       "2                  4713.324891\n",
       "3                   699.795059\n",
       "Cluster               3.000000\n",
       "Name: 28, dtype: float64"
      ]
     },
     "execution_count": 68,
     "metadata": {},
     "output_type": "execute_result"
    }
   ],
   "source": [
    "# TRESTING\n",
    "num_clusters = 1\n",
    "num_examples = data.shape[0]\n",
    "\n",
    "# Randomly reorder indices of training examples.\n",
    "random_ids = np.random.permutation(num_examples)\n",
    "print(data.shape,random_ids)\n",
    "# Take the first K examples as centroids.\n",
    "# centroids = data[[2,5], [2,4]]\n",
    "# centroids = data.iloc[random_ids[:num_clusters], :]\n",
    "# data.iloc([2,5],[2,1])\n",
    "# data.iloc[4,:]\n",
    "print(centroids.shape,type(centroids))\n",
    "centroids.iloc[0,:]"
   ]
  },
  {
   "cell_type": "code",
   "execution_count": null,
   "metadata": {},
   "outputs": [],
   "source": []
  }
 ],
 "metadata": {
  "interpreter": {
   "hash": "f4e8757de311c6a39c2c44504466fdd8d7a57405b87739741365a6ee3c058b2c"
  },
  "kernelspec": {
   "display_name": "Python 3.10.3 64-bit",
   "language": "python",
   "name": "python3"
  },
  "language_info": {
   "codemirror_mode": {
    "name": "ipython",
    "version": 3
   },
   "file_extension": ".py",
   "mimetype": "text/x-python",
   "name": "python",
   "nbconvert_exporter": "python",
   "pygments_lexer": "ipython3",
   "version": "3.10.3"
  },
  "orig_nbformat": 4
 },
 "nbformat": 4,
 "nbformat_minor": 2
}
